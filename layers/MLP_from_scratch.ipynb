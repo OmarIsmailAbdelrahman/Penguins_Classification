{
  "nbformat": 4,
  "nbformat_minor": 0,
  "metadata": {
    "colab": {
      "provenance": [],
      "collapsed_sections": [
        "oQ1UnqNlV156"
      ]
    },
    "kernelspec": {
      "name": "python3",
      "display_name": "Python 3"
    },
    "language_info": {
      "name": "python"
    }
  },
  "cells": [
    {
      "cell_type": "markdown",
      "source": [
        "# This is a test for building a Neural network and optimizers from sctach"
      ],
      "metadata": {
        "id": "QSfJcj1R4Jzy"
      }
    },
    {
      "cell_type": "code",
      "source": [
        "%matplotlib inline\n",
        "import sys\n",
        "import numpy as np\n",
        "import pandas as pd\n",
        "from sklearn.preprocessing import LabelEncoder\n",
        "from sklearn.model_selection import train_test_split\n",
        "from sklearn import preprocessing\n",
        "import matplotlib.pyplot as plt\n",
        "from sklearn.svm import SVC"
      ],
      "metadata": {
        "id": "o6vVUGBK456p"
      },
      "execution_count": null,
      "outputs": []
    },
    {
      "cell_type": "code",
      "source": [
        "# this to add the functions to the class in different cell\n",
        "def add_to_class(Class): \n",
        "  def wrapper(obj):\n",
        "    setattr(Class, obj.__name__, obj)\n",
        "  return wrapper  "
      ],
      "metadata": {
        "id": "htNCBnnP4JZD"
      },
      "execution_count": null,
      "outputs": []
    },
    {
      "cell_type": "code",
      "source": [
        "class NN:\n",
        "    def __init__(self, learning_rate=0.001, max_iter=1000, bias=0, threshold=\"Sigmoid\"):\n",
        "        self.max_iter = max_iter\n",
        "        self.learning_rate = learning_rate\n",
        "        self.bias = bias\n",
        "        self.threshold = threshold\n",
        "        self.W = []\n"
      ],
      "metadata": {
        "id": "pyj3s3YW-bl_"
      },
      "execution_count": null,
      "outputs": []
    },
    {
      "cell_type": "code",
      "source": [
        "# activation functions\n",
        "\n",
        "@add_to_class(NN)\n",
        "def fThreshold(self, x):\n",
        "    if self.threshold == \"Sigmoid\":\n",
        "        return 1 / (1 + np.exp(-x))\n",
        "    elif self.threshold == \"Tanh\":\n",
        "        return (1 - np.exp(-x)) / (1 + np.exp(-x))\n",
        "    else:\n",
        "        return x\n",
        "\n",
        "@add_to_class(NN)\n",
        "def dthreshold(self, x):\n",
        "        if self.threshold == \"Sigmoid\":\n",
        "            return self.fThreshold(x) * (1 - self.fThreshold(x))\n",
        "        elif self.threshold == \"Tanh\":\n",
        "            return (1 - self.fThreshold(x)) * (1 + self.fThreshold(x))\n",
        "        else:\n",
        "            return x"
      ],
      "metadata": {
        "id": "vFRhFl9q4JiR"
      },
      "execution_count": null,
      "outputs": []
    },
    {
      "cell_type": "code",
      "source": [
        "# cost function and the derivative\n",
        "@add_to_class(NN)\n",
        "def cost(self, y, y_hat):\n",
        "    return 1 / 2 * (y - y_hat) ** 2\n",
        "\n",
        "@add_to_class(NN)\n",
        "def dcost(self, y, y_hat):\n",
        "    return (y_hat - y)"
      ],
      "metadata": {
        "id": "EctYiMY74wrQ"
      },
      "execution_count": null,
      "outputs": []
    },
    {
      "cell_type": "code",
      "source": [
        "# creating the layers for the MLP\n",
        "@add_to_class(NN)\n",
        "def layers(self, inputSize, layerSizes, numOfOutput):\n",
        "    if len(layerSizes) != 0:\n",
        "        self.W.append(np.random.normal(0,1,(inputSize + self.bias, layerSizes[0]) ))\n",
        "        for i in range(len(layerSizes) - 1):\n",
        "            self.W.append(np.random.normal(0,1,(layerSizes[i] + self.bias, layerSizes[i + 1])))\n",
        "        self.W.append(np.random.normal(0,1,(layerSizes[-1] + self.bias, numOfOutput)))\n",
        "    else:\n",
        "        self.W.append(\n",
        "            np.random.normal(0,1,(inputSize + self.bias, numOfOutput) ))  # condition that the is no hidden layers\n"
      ],
      "metadata": {
        "id": "Fb1T5Fwh4wyU"
      },
      "execution_count": null,
      "outputs": []
    },
    {
      "cell_type": "code",
      "source": [
        "# Forward Prop\n",
        "@add_to_class(NN)\n",
        "def forward(self, X):\n",
        "    input = []\n",
        "    net = []\n",
        "    if self.bias == 1:\n",
        "        input.append(np.hstack((np.ones([X.shape[0], 1]), X))) \n",
        "    else:\n",
        "        input.append(X) \n",
        "    net.append((input[0] @ self.W[0])) \n",
        "    input.append(self.fThreshold(net[0]))  \n",
        "\n",
        "    for i in range(len(self.W) - 1):\n",
        "        if self.bias == 1:\n",
        "            tmp = np.hstack((np.ones([input[len(input) - 1].shape[0], 1]), input[len(input) - 1]))\n",
        "        else:\n",
        "            tmp = input[len(input) - 1]\n",
        "        net.append((tmp @ self.W[i + 1]))\n",
        "\n",
        "        input.append(self.fThreshold(net[len(net) - 1]))\n",
        "    self.input = input\n",
        "    self.net = net\n",
        "    if self.bias == 1:\n",
        "        self.input[0] = self.input[0][:, 1:]  \n",
        "    return input[-1] \n"
      ],
      "metadata": {
        "id": "0xtuUXbP4w2n"
      },
      "execution_count": null,
      "outputs": []
    },
    {
      "cell_type": "code",
      "source": [
        "# Backword Prop\n",
        "@add_to_class(NN)\n",
        "def backward(self, X, y):\n",
        "    dcost = (self.input[len(self.input) - 1] - y)\n",
        "    for i in range(len(self.W)):\n",
        "\n",
        "        if i == 0:  \n",
        "            db = self.dthreshold(self.net[-1]) * dcost \n",
        "            dw = (self.input[-2].T @ db)  \n",
        "        else:\n",
        "\n",
        "            if self.bias == 1:\n",
        "                db = self.dthreshold(self.net[-(1 + i)] * (db @ self.W[-(i)][1:].T))\n",
        "                dw = (self.input[-(2 + i)].T @ db)\n",
        "            else:\n",
        "                db = self.dthreshold(self.net[-(1 + i)] * (db @ self.W[-(i)].T))\n",
        "                dw = (self.input[-(2 + i)].T @ db)\n",
        "        if self.bias == 1:\n",
        "            self.W[-(i + 1)][0] -= (np.sum(db,axis=0) * self.learning_rate / X.shape[0])\n",
        "            self.W[-(i + 1)][1:] -= dw * self.learning_rate / X.shape[0]\n",
        "        else:\n",
        "            self.W[-(i + 1)] -= dw * self.learning_rate / X.shape[0]\n",
        "    return\n"
      ],
      "metadata": {
        "id": "grL3-Uy9-_Mo"
      },
      "execution_count": null,
      "outputs": []
    },
    {
      "cell_type": "code",
      "source": [
        "@add_to_class(NN)\n",
        "def train(self, X, y, ):\n",
        "    Y = np.array(splitOutputToNeural(y))\n",
        "    plot1 = []\n",
        "    plot2 = []\n",
        "    plot3 = []\n",
        "    plotting = []\n",
        "    score = []\n",
        "    for i in range(self.max_iter):\n",
        "        self.forward(X)\n",
        "        self.backward(X, Y)\n",
        "        err =  np.abs(self.forward(X) - Y).sum()\n",
        "        plotting.append(np.abs(self.forward(X) - Y).sum())\n",
        "        score, matrix = self.test(X, y)\n",
        "    plt.plot(np.arange(len(plotting)),plotting)\n",
        "    print(\"train score\", score)\n"
      ],
      "metadata": {
        "id": "TN5UGNAS_Ds-"
      },
      "execution_count": null,
      "outputs": []
    },
    {
      "cell_type": "code",
      "source": [
        "@add_to_class(NN)\n",
        "def test(self, X, y):\n",
        "    # match the output layer with the prediction\n",
        "    y = np.array(splitOutputToNeural(y))\n",
        "    count = 0\n",
        "    y_hat = self.forward(X)\n",
        "    for i in range(y.shape[0]):\n",
        "        if y_hat[i ,y[i].argmax()] == y_hat[i].max():\n",
        "            count +=1\n",
        "    matrix = confusion_matrix(y,y_hat)\n",
        "    return count / y.shape[0],matrix\n"
      ],
      "metadata": {
        "id": "_wx4EhrNGJLn"
      },
      "execution_count": null,
      "outputs": []
    },
    {
      "cell_type": "code",
      "source": [
        "# add it later to the class\n",
        "def splitOutputToNeural(y):\n",
        "    unique = np.unique(y)\n",
        "    split = []\n",
        "    y = np.array(y)\n",
        "    for i in range(y.shape[0]):\n",
        "        tmp = np.zeros(unique.shape)\n",
        "        tmp[y[i]] = 1\n",
        "        split.append(tmp)\n",
        "    return split\n",
        "\n",
        "# this is for pinguins data set splitter\n",
        "def dataframesplit(df):\n",
        "    train = np.arange(0, 30)\n",
        "    train = np.append(train, np.arange(50, 80))\n",
        "    train = np.append(train, np.arange(100, 130))\n",
        "    test = np.arange(30.50)\n",
        "    test = np.append(test, np.arange(80, 100))\n",
        "    test = np.append(test, np.arange(130, 150))\n",
        "    return df.iloc[train], df.iloc[test]\n",
        "\n",
        "def confusion_matrix(y, y_hat):\n",
        "    matrix = np.zeros((y.shape[1],y.shape[1]))\n",
        "    for i in range(y.shape[1]):     \n",
        "        for j in range(y.shape[0]): \n",
        "            if y[j,i] == 0:\n",
        "                continue\n",
        "            matrix[i,y_hat[j].argmax()] += 1\n",
        "    return matrix"
      ],
      "metadata": {
        "id": "4BTCNOAf_JNw"
      },
      "execution_count": null,
      "outputs": []
    },
    {
      "cell_type": "markdown",
      "source": [
        "There are two Datasets Used, penguins and the titanic"
      ],
      "metadata": {
        "id": "V8GDCd_eRtDR"
      }
    },
    {
      "cell_type": "markdown",
      "source": [
        "# Penguins Data"
      ],
      "metadata": {
        "id": "qPsoOW7hVvkf"
      }
    },
    {
      "cell_type": "code",
      "source": [
        "# must choose one of the two datasets\n",
        "\n",
        "#df = pd.read_csv(\"penguins.csv\")\n",
        "# df"
      ],
      "metadata": {
        "id": "Tep1_iF6_JzB"
      },
      "execution_count": 17,
      "outputs": []
    },
    {
      "cell_type": "code",
      "source": [
        "# preprocessing\n",
        "df.reset_index(drop=True, inplace=True)\n",
        "df['gender'] = df['gender'].fillna('male')\n",
        "le = LabelEncoder()\n",
        "df[\"gender\"] = df.apply(le.fit_transform)[\"gender\"]\n",
        "df[\"species\"] = df.apply(le.fit_transform)[\"species\"]\n"
      ],
      "metadata": {
        "id": "hZiVN8nfDJRR"
      },
      "execution_count": null,
      "outputs": []
    },
    {
      "cell_type": "code",
      "source": [
        "# Data Splitting\n",
        "train, test = dataframesplit(df)\n",
        "y_train = train[\"species\"]\n",
        "y_test = test[\"species\"]\n",
        "X_train = train.drop([\"species\"], axis=1).values\n",
        "X_test = test.drop([\"species\"], axis=1).values"
      ],
      "metadata": {
        "id": "zt0ulxueDKch"
      },
      "execution_count": null,
      "outputs": []
    },
    {
      "cell_type": "markdown",
      "source": [
        "# Titanic Data"
      ],
      "metadata": {
        "id": "oQ1UnqNlV156"
      }
    },
    {
      "cell_type": "code",
      "source": [
        "df = pd.read_csv(\"train.csv\")\n",
        "df"
      ],
      "metadata": {
        "colab": {
          "base_uri": "https://localhost:8080/",
          "height": 502
        },
        "id": "uBTj6HxHV34E",
        "outputId": "ecb7deca-bbf9-4b09-ba5f-3e832c023daf"
      },
      "execution_count": null,
      "outputs": [
        {
          "output_type": "execute_result",
          "data": {
            "text/plain": [
              "     PassengerId  Survived  Pclass  \\\n",
              "0              1         0       3   \n",
              "1              2         1       1   \n",
              "2              3         1       3   \n",
              "3              4         1       1   \n",
              "4              5         0       3   \n",
              "..           ...       ...     ...   \n",
              "886          887         0       2   \n",
              "887          888         1       1   \n",
              "888          889         0       3   \n",
              "889          890         1       1   \n",
              "890          891         0       3   \n",
              "\n",
              "                                                  Name     Sex   Age  SibSp  \\\n",
              "0                              Braund, Mr. Owen Harris    male  22.0      1   \n",
              "1    Cumings, Mrs. John Bradley (Florence Briggs Th...  female  38.0      1   \n",
              "2                               Heikkinen, Miss. Laina  female  26.0      0   \n",
              "3         Futrelle, Mrs. Jacques Heath (Lily May Peel)  female  35.0      1   \n",
              "4                             Allen, Mr. William Henry    male  35.0      0   \n",
              "..                                                 ...     ...   ...    ...   \n",
              "886                              Montvila, Rev. Juozas    male  27.0      0   \n",
              "887                       Graham, Miss. Margaret Edith  female  19.0      0   \n",
              "888           Johnston, Miss. Catherine Helen \"Carrie\"  female   NaN      1   \n",
              "889                              Behr, Mr. Karl Howell    male  26.0      0   \n",
              "890                                Dooley, Mr. Patrick    male  32.0      0   \n",
              "\n",
              "     Parch            Ticket     Fare Cabin Embarked  \n",
              "0        0         A/5 21171   7.2500   NaN        S  \n",
              "1        0          PC 17599  71.2833   C85        C  \n",
              "2        0  STON/O2. 3101282   7.9250   NaN        S  \n",
              "3        0            113803  53.1000  C123        S  \n",
              "4        0            373450   8.0500   NaN        S  \n",
              "..     ...               ...      ...   ...      ...  \n",
              "886      0            211536  13.0000   NaN        S  \n",
              "887      0            112053  30.0000   B42        S  \n",
              "888      2        W./C. 6607  23.4500   NaN        S  \n",
              "889      0            111369  30.0000  C148        C  \n",
              "890      0            370376   7.7500   NaN        Q  \n",
              "\n",
              "[891 rows x 12 columns]"
            ],
            "text/html": [
              "\n",
              "  <div id=\"df-3c1bfc0a-1935-4253-b5c1-2bb7d50f1aa3\">\n",
              "    <div class=\"colab-df-container\">\n",
              "      <div>\n",
              "<style scoped>\n",
              "    .dataframe tbody tr th:only-of-type {\n",
              "        vertical-align: middle;\n",
              "    }\n",
              "\n",
              "    .dataframe tbody tr th {\n",
              "        vertical-align: top;\n",
              "    }\n",
              "\n",
              "    .dataframe thead th {\n",
              "        text-align: right;\n",
              "    }\n",
              "</style>\n",
              "<table border=\"1\" class=\"dataframe\">\n",
              "  <thead>\n",
              "    <tr style=\"text-align: right;\">\n",
              "      <th></th>\n",
              "      <th>PassengerId</th>\n",
              "      <th>Survived</th>\n",
              "      <th>Pclass</th>\n",
              "      <th>Name</th>\n",
              "      <th>Sex</th>\n",
              "      <th>Age</th>\n",
              "      <th>SibSp</th>\n",
              "      <th>Parch</th>\n",
              "      <th>Ticket</th>\n",
              "      <th>Fare</th>\n",
              "      <th>Cabin</th>\n",
              "      <th>Embarked</th>\n",
              "    </tr>\n",
              "  </thead>\n",
              "  <tbody>\n",
              "    <tr>\n",
              "      <th>0</th>\n",
              "      <td>1</td>\n",
              "      <td>0</td>\n",
              "      <td>3</td>\n",
              "      <td>Braund, Mr. Owen Harris</td>\n",
              "      <td>male</td>\n",
              "      <td>22.0</td>\n",
              "      <td>1</td>\n",
              "      <td>0</td>\n",
              "      <td>A/5 21171</td>\n",
              "      <td>7.2500</td>\n",
              "      <td>NaN</td>\n",
              "      <td>S</td>\n",
              "    </tr>\n",
              "    <tr>\n",
              "      <th>1</th>\n",
              "      <td>2</td>\n",
              "      <td>1</td>\n",
              "      <td>1</td>\n",
              "      <td>Cumings, Mrs. John Bradley (Florence Briggs Th...</td>\n",
              "      <td>female</td>\n",
              "      <td>38.0</td>\n",
              "      <td>1</td>\n",
              "      <td>0</td>\n",
              "      <td>PC 17599</td>\n",
              "      <td>71.2833</td>\n",
              "      <td>C85</td>\n",
              "      <td>C</td>\n",
              "    </tr>\n",
              "    <tr>\n",
              "      <th>2</th>\n",
              "      <td>3</td>\n",
              "      <td>1</td>\n",
              "      <td>3</td>\n",
              "      <td>Heikkinen, Miss. Laina</td>\n",
              "      <td>female</td>\n",
              "      <td>26.0</td>\n",
              "      <td>0</td>\n",
              "      <td>0</td>\n",
              "      <td>STON/O2. 3101282</td>\n",
              "      <td>7.9250</td>\n",
              "      <td>NaN</td>\n",
              "      <td>S</td>\n",
              "    </tr>\n",
              "    <tr>\n",
              "      <th>3</th>\n",
              "      <td>4</td>\n",
              "      <td>1</td>\n",
              "      <td>1</td>\n",
              "      <td>Futrelle, Mrs. Jacques Heath (Lily May Peel)</td>\n",
              "      <td>female</td>\n",
              "      <td>35.0</td>\n",
              "      <td>1</td>\n",
              "      <td>0</td>\n",
              "      <td>113803</td>\n",
              "      <td>53.1000</td>\n",
              "      <td>C123</td>\n",
              "      <td>S</td>\n",
              "    </tr>\n",
              "    <tr>\n",
              "      <th>4</th>\n",
              "      <td>5</td>\n",
              "      <td>0</td>\n",
              "      <td>3</td>\n",
              "      <td>Allen, Mr. William Henry</td>\n",
              "      <td>male</td>\n",
              "      <td>35.0</td>\n",
              "      <td>0</td>\n",
              "      <td>0</td>\n",
              "      <td>373450</td>\n",
              "      <td>8.0500</td>\n",
              "      <td>NaN</td>\n",
              "      <td>S</td>\n",
              "    </tr>\n",
              "    <tr>\n",
              "      <th>...</th>\n",
              "      <td>...</td>\n",
              "      <td>...</td>\n",
              "      <td>...</td>\n",
              "      <td>...</td>\n",
              "      <td>...</td>\n",
              "      <td>...</td>\n",
              "      <td>...</td>\n",
              "      <td>...</td>\n",
              "      <td>...</td>\n",
              "      <td>...</td>\n",
              "      <td>...</td>\n",
              "      <td>...</td>\n",
              "    </tr>\n",
              "    <tr>\n",
              "      <th>886</th>\n",
              "      <td>887</td>\n",
              "      <td>0</td>\n",
              "      <td>2</td>\n",
              "      <td>Montvila, Rev. Juozas</td>\n",
              "      <td>male</td>\n",
              "      <td>27.0</td>\n",
              "      <td>0</td>\n",
              "      <td>0</td>\n",
              "      <td>211536</td>\n",
              "      <td>13.0000</td>\n",
              "      <td>NaN</td>\n",
              "      <td>S</td>\n",
              "    </tr>\n",
              "    <tr>\n",
              "      <th>887</th>\n",
              "      <td>888</td>\n",
              "      <td>1</td>\n",
              "      <td>1</td>\n",
              "      <td>Graham, Miss. Margaret Edith</td>\n",
              "      <td>female</td>\n",
              "      <td>19.0</td>\n",
              "      <td>0</td>\n",
              "      <td>0</td>\n",
              "      <td>112053</td>\n",
              "      <td>30.0000</td>\n",
              "      <td>B42</td>\n",
              "      <td>S</td>\n",
              "    </tr>\n",
              "    <tr>\n",
              "      <th>888</th>\n",
              "      <td>889</td>\n",
              "      <td>0</td>\n",
              "      <td>3</td>\n",
              "      <td>Johnston, Miss. Catherine Helen \"Carrie\"</td>\n",
              "      <td>female</td>\n",
              "      <td>NaN</td>\n",
              "      <td>1</td>\n",
              "      <td>2</td>\n",
              "      <td>W./C. 6607</td>\n",
              "      <td>23.4500</td>\n",
              "      <td>NaN</td>\n",
              "      <td>S</td>\n",
              "    </tr>\n",
              "    <tr>\n",
              "      <th>889</th>\n",
              "      <td>890</td>\n",
              "      <td>1</td>\n",
              "      <td>1</td>\n",
              "      <td>Behr, Mr. Karl Howell</td>\n",
              "      <td>male</td>\n",
              "      <td>26.0</td>\n",
              "      <td>0</td>\n",
              "      <td>0</td>\n",
              "      <td>111369</td>\n",
              "      <td>30.0000</td>\n",
              "      <td>C148</td>\n",
              "      <td>C</td>\n",
              "    </tr>\n",
              "    <tr>\n",
              "      <th>890</th>\n",
              "      <td>891</td>\n",
              "      <td>0</td>\n",
              "      <td>3</td>\n",
              "      <td>Dooley, Mr. Patrick</td>\n",
              "      <td>male</td>\n",
              "      <td>32.0</td>\n",
              "      <td>0</td>\n",
              "      <td>0</td>\n",
              "      <td>370376</td>\n",
              "      <td>7.7500</td>\n",
              "      <td>NaN</td>\n",
              "      <td>Q</td>\n",
              "    </tr>\n",
              "  </tbody>\n",
              "</table>\n",
              "<p>891 rows × 12 columns</p>\n",
              "</div>\n",
              "      <button class=\"colab-df-convert\" onclick=\"convertToInteractive('df-3c1bfc0a-1935-4253-b5c1-2bb7d50f1aa3')\"\n",
              "              title=\"Convert this dataframe to an interactive table.\"\n",
              "              style=\"display:none;\">\n",
              "        \n",
              "  <svg xmlns=\"http://www.w3.org/2000/svg\" height=\"24px\"viewBox=\"0 0 24 24\"\n",
              "       width=\"24px\">\n",
              "    <path d=\"M0 0h24v24H0V0z\" fill=\"none\"/>\n",
              "    <path d=\"M18.56 5.44l.94 2.06.94-2.06 2.06-.94-2.06-.94-.94-2.06-.94 2.06-2.06.94zm-11 1L8.5 8.5l.94-2.06 2.06-.94-2.06-.94L8.5 2.5l-.94 2.06-2.06.94zm10 10l.94 2.06.94-2.06 2.06-.94-2.06-.94-.94-2.06-.94 2.06-2.06.94z\"/><path d=\"M17.41 7.96l-1.37-1.37c-.4-.4-.92-.59-1.43-.59-.52 0-1.04.2-1.43.59L10.3 9.45l-7.72 7.72c-.78.78-.78 2.05 0 2.83L4 21.41c.39.39.9.59 1.41.59.51 0 1.02-.2 1.41-.59l7.78-7.78 2.81-2.81c.8-.78.8-2.07 0-2.86zM5.41 20L4 18.59l7.72-7.72 1.47 1.35L5.41 20z\"/>\n",
              "  </svg>\n",
              "      </button>\n",
              "      \n",
              "  <style>\n",
              "    .colab-df-container {\n",
              "      display:flex;\n",
              "      flex-wrap:wrap;\n",
              "      gap: 12px;\n",
              "    }\n",
              "\n",
              "    .colab-df-convert {\n",
              "      background-color: #E8F0FE;\n",
              "      border: none;\n",
              "      border-radius: 50%;\n",
              "      cursor: pointer;\n",
              "      display: none;\n",
              "      fill: #1967D2;\n",
              "      height: 32px;\n",
              "      padding: 0 0 0 0;\n",
              "      width: 32px;\n",
              "    }\n",
              "\n",
              "    .colab-df-convert:hover {\n",
              "      background-color: #E2EBFA;\n",
              "      box-shadow: 0px 1px 2px rgba(60, 64, 67, 0.3), 0px 1px 3px 1px rgba(60, 64, 67, 0.15);\n",
              "      fill: #174EA6;\n",
              "    }\n",
              "\n",
              "    [theme=dark] .colab-df-convert {\n",
              "      background-color: #3B4455;\n",
              "      fill: #D2E3FC;\n",
              "    }\n",
              "\n",
              "    [theme=dark] .colab-df-convert:hover {\n",
              "      background-color: #434B5C;\n",
              "      box-shadow: 0px 1px 3px 1px rgba(0, 0, 0, 0.15);\n",
              "      filter: drop-shadow(0px 1px 2px rgba(0, 0, 0, 0.3));\n",
              "      fill: #FFFFFF;\n",
              "    }\n",
              "  </style>\n",
              "\n",
              "      <script>\n",
              "        const buttonEl =\n",
              "          document.querySelector('#df-3c1bfc0a-1935-4253-b5c1-2bb7d50f1aa3 button.colab-df-convert');\n",
              "        buttonEl.style.display =\n",
              "          google.colab.kernel.accessAllowed ? 'block' : 'none';\n",
              "\n",
              "        async function convertToInteractive(key) {\n",
              "          const element = document.querySelector('#df-3c1bfc0a-1935-4253-b5c1-2bb7d50f1aa3');\n",
              "          const dataTable =\n",
              "            await google.colab.kernel.invokeFunction('convertToInteractive',\n",
              "                                                     [key], {});\n",
              "          if (!dataTable) return;\n",
              "\n",
              "          const docLinkHtml = 'Like what you see? Visit the ' +\n",
              "            '<a target=\"_blank\" href=https://colab.research.google.com/notebooks/data_table.ipynb>data table notebook</a>'\n",
              "            + ' to learn more about interactive tables.';\n",
              "          element.innerHTML = '';\n",
              "          dataTable['output_type'] = 'display_data';\n",
              "          await google.colab.output.renderOutput(dataTable, element);\n",
              "          const docLink = document.createElement('div');\n",
              "          docLink.innerHTML = docLinkHtml;\n",
              "          element.appendChild(docLink);\n",
              "        }\n",
              "      </script>\n",
              "    </div>\n",
              "  </div>\n",
              "  "
            ]
          },
          "metadata": {},
          "execution_count": 13
        }
      ]
    },
    {
      "cell_type": "code",
      "source": [
        "def preprocess(X):\n",
        "    X['Fare'].fillna(int(X['Fare'].mean()), inplace=True)\n",
        "    X['Age'].fillna(int(X['Age'].mean()), inplace=True)\n",
        "    X = X.to_numpy()\n",
        "    for i in range(X.shape[1]):\n",
        "        X[:, i] = (X[:, i] - X[:, i].mean()) / X[:, i].std()\n",
        "    # print(X.shape)\n",
        "    return X\n",
        "\n",
        "X = df.drop([\"Name\", \"Ticket\", \"Cabin\", \"Embarked\", \"PassengerId\"], axis=1)\n",
        "X.replace({'male': 1, 'female': 0}, inplace=True)\n",
        "X = preprocess(X)\n",
        "y = np.array(df[\"Survived\"]).reshape(X.shape[0], -1)\n",
        "X_train, X_test, y_train, y_test = train_test_split(X, y, test_size=0.2)\n"
      ],
      "metadata": {
        "id": "Yz_DDfmxV_sL"
      },
      "execution_count": null,
      "outputs": []
    },
    {
      "cell_type": "markdown",
      "source": [
        "# **PreProcessing and training**"
      ],
      "metadata": {
        "id": "nlA_Rbm2XUl6"
      }
    },
    {
      "cell_type": "code",
      "source": [
        "# normalize the input X\n",
        "min_max_scaler = preprocessing.MinMaxScaler()\n",
        "X_train = min_max_scaler.fit_transform(X_train)\n",
        "X_test = min_max_scaler.fit_transform(X_test)"
      ],
      "metadata": {
        "id": "JW4GMMNwDNvg"
      },
      "execution_count": null,
      "outputs": []
    },
    {
      "cell_type": "code",
      "source": [
        "# Model Training and testing\n",
        "model = NN(learning_rate=1, max_iter=5000, bias=1, threshold=\"Sigmoid\")\n",
        "model.layers(inputSize=X_train.shape[1], layerSizes=[], numOfOutput=len(np.unique(y_train)))\n",
        "model.train(X_train, y_train)\n",
        "score,matrix =  model.test(X_test, y_test)\n",
        "print(\"test score\", score)\n",
        "print(\"confusion matrix\\n\",matrix)\n"
      ],
      "metadata": {
        "colab": {
          "base_uri": "https://localhost:8080/",
          "height": 352
        },
        "id": "BY7bKkyWCExA",
        "outputId": "756841bb-b98c-49cd-fb7d-3d76b9eb41d6"
      },
      "execution_count": null,
      "outputs": [
        {
          "output_type": "stream",
          "name": "stdout",
          "text": [
            "train score 1.0\n",
            "test score 1.0\n",
            "confusion matrix\n",
            " [[114.   0.]\n",
            " [  0.  65.]]\n"
          ]
        },
        {
          "output_type": "display_data",
          "data": {
            "text/plain": [
              "<Figure size 432x288 with 1 Axes>"
            ],
            "image/png": "[encoded data removed]"
          },
          "metadata": {
            "needs_background": "light"
          }
        }
      ]
    },
    {
      "cell_type": "code",
      "source": [],
      "metadata": {
        "id": "dHR8X-RkCFlY"
      },
      "execution_count": null,
      "outputs": []
    }
  ]
}